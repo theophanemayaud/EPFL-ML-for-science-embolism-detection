{
 "cells": [
  {
   "cell_type": "code",
   "execution_count": null,
   "metadata": {},
   "outputs": [],
   "source": [
    "import numpy as np\n",
    "import cv2 as cv\n",
    "import matplotlib.pyplot as plt\n",
    "import matplotlib.image as mpimg\n",
    "import glob, os, ntpath"
   ]
  },
  {
   "source": [
    "# Load data"
   ],
   "cell_type": "markdown",
   "metadata": {}
  },
  {
   "cell_type": "code",
   "execution_count": null,
   "metadata": {},
   "outputs": [],
   "source": [
    "imgs_names = glob.glob('**/*.tif')\n",
    "imgs = [cv.imread(name,0) for name in imgs_names]\n",
    "imgs_names = [extract_name(name) for name in imgs_names] # leave only the file name so it's easy to add notation of augmentation"
   ]
  },
  {
   "source": [
    "# Filter noise and detect holes"
   ],
   "cell_type": "markdown",
   "metadata": {}
  },
  {
   "cell_type": "code",
   "execution_count": null,
   "metadata": {},
   "outputs": [],
   "source": []
  },
  {
   "cell_type": "markdown",
   "metadata": {},
   "source": [
    "# Data augmentation"
   ]
  },
  {
   "cell_type": "code",
   "execution_count": null,
   "metadata": {},
   "outputs": [],
   "source": [
    "def extract_name(path):\n",
    "    head, tail = ntpath.split(path)\n",
    "    head = tail or ntpath.basename(head)\n",
    "    return os.path.splitext(head)[0]"
   ]
  },
  {
   "cell_type": "code",
   "execution_count": null,
   "metadata": {},
   "outputs": [],
   "source": [
    "# labels = []\n",
    "n = len(imgs)\n",
    "\n",
    "# add noisy versions\n",
    "noiseLvls = [0.2,0.1,0.05]\n",
    "for i in range(n):\n",
    "    row,col = imgs[i].shape\n",
    "    name = imgs_names[i]\n",
    "    for j,noise in enumerate(noiseLvls):\n",
    "        imgs.append(imgs[i]+np.random.normal(0.0,noise,(row,col))*255)\n",
    "        imgs_names.append(name+'_gn'+str(j))\n",
    "        # labels.append(y)\n",
    "    imgs.append(imgs[i]*(np.random.randn(row,col)*0.4+1))\n",
    "    imgs_names.append(name+'_sn')\n",
    "    # labels.append(y)\n",
    "\n",
    "n = len(imgs)\n",
    "rotations = [cv.ROTATE_90_CLOCKWISE, cv.ROTATE_180, cv.ROTATE_90_COUNTERCLOCKWISE]\n",
    "# add rotated and flipped versions\n",
    "for i in range(n):\n",
    "    name = imgs_names[i]\n",
    "    # y = labels[i]\n",
    "    # add rotated versions\n",
    "    imgs.append(cv.flip(imgs[i],1))\n",
    "    imgs_names.append(name+'_fr000')\n",
    "    # labels.append(cv.flip(y,1))\n",
    "    for j,r in enumerate(rotations):\n",
    "        angle = str((j+1)*90)\n",
    "        imgs.append(cv.rotate(imgs[i],r))\n",
    "        imgs_names.append(name+'_r'+angle)\n",
    "        # labels.append(cv.rotate(y,r))\n",
    "        imgs.append(cv.rotate(cv.flip(imgs[i],1),r))\n",
    "        imgs_names.append(name+'_fr'+angle)\n",
    "        # labels.append(cv.rotate(cv.flip(y,1),r))"
   ]
  },
  {
   "cell_type": "code",
   "execution_count": null,
   "metadata": {},
   "outputs": [],
   "source": [
    "n = 25\n",
    "a = np.ceil(np.sqrt(len(imgs[:n])))\n",
    "plt.figure(figsize=(40,40))\n",
    "for i in range(len(imgs[:n])):\n",
    "    plt.subplot(a,a,i+1)\n",
    "    plt.imshow(imgs[i])\n",
    "    plt.title(imgs_names[i])\n",
    "plt.show()"
   ]
  }
 ],
 "metadata": {
  "kernelspec": {
   "display_name": "Python 3",
   "language": "python",
   "name": "python3"
  },
  "language_info": {
   "codemirror_mode": {
    "name": "ipython",
    "version": 3
   },
   "file_extension": ".py",
   "mimetype": "text/x-python",
   "name": "python",
   "nbconvert_exporter": "python",
   "pygments_lexer": "ipython3",
   "version": "3.7.9-final"
  }
 },
 "nbformat": 4,
 "nbformat_minor": 2
}