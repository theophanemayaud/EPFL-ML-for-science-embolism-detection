{
 "cells": [
  {
   "cell_type": "markdown",
   "metadata": {},
   "source": [
    "# Imports"
   ]
  },
  {
   "cell_type": "code",
   "execution_count": null,
   "metadata": {},
   "outputs": [],
   "source": [
    "import pandas as pd\n",
    "import cv2 as cv\n",
    "import matplotlib.pyplot as plt\n",
    "import numpy as np\n",
    "import zipfile\n",
    "from pathlib import Path\n",
    "from scipy.ndimage import label as region_map\n",
    "from helpers import *"
   ]
  },
  {
   "cell_type": "markdown",
   "metadata": {},
   "source": [
    "# Select data, CSV files, and outputs locations"
   ]
  },
  {
   "cell_type": "code",
   "execution_count": null,
   "metadata": {},
   "outputs": [],
   "source": [
    "analyzed_csv = \"./csv_files/data_overview.csv\"  # Enter the location of the analyzed data csv file\n",
    "csv_files_zip = './csv_files/emb_csv_files.zip' # enter the location of a zip containing all EMB.csv files for the data\n",
    "labels_out_dir1 = \"./labels_circle/\"    # select what folder the circle labels will be stored at\n",
    "labels_out_dir2 = \"./labels_sp/\"     # select what folder the signal processing labels will be stored at\n",
    "Path(labels_out_dir1).mkdir(parents=True, exist_ok=True) # create folder if doesn't exist\n",
    "Path(labels_out_dir2).mkdir(parents=True, exist_ok=True) # create folder if doesn't exist"
   ]
  },
  {
   "cell_type": "markdown",
   "metadata": {},
   "source": [
    "# Extract data from CSV file"
   ]
  },
  {
   "cell_type": "code",
   "execution_count": null,
   "metadata": {},
   "outputs": [],
   "source": [
    "analysis_overview_df = pd.read_csv(analyzed_csv)"
   ]
  },
  {
   "cell_type": "markdown",
   "metadata": {},
   "source": [
    "# Create circle masks"
   ]
  },
  {
   "cell_type": "code",
   "execution_count": null,
   "metadata": {},
   "outputs": [],
   "source": [
    "with zipfile.ZipFile(csv_files_zip) as csv_labels_folder:\n",
    "    for index, row in analysis_overview_df.iterrows():\n",
    "        emb_csv_filename = f\"{row.session}_{row.scan_nb}_{row.plant_name}_emb.csv\"\n",
    "        with csv_labels_folder.open(emb_csv_filename) as emb_file:\n",
    "            emb_df = pd.read_csv(emb_file, skiprows=1, index_col=\"index\")\n",
    "            \n",
    "            # create the mask for the embolism regions\n",
    "            # NB: the Lab drive must be mounted at the location found in the csv_files_zip file\n",
    "            # otherwise the images will be empty\n",
    "            img_pathname = (analysis_overview_df.loc[(analysis_overview_df[\"plant_name\"] == row.plant_name) & (analysis_overview_df[\"scan_nb\"] == row.scan_nb) & (analysis_overview_df[\"session\"] == row.session), \"pathname\"]).iloc[0]\n",
    "            try:\n",
    "                with open(img_pathname) as f:\n",
    "                    continue\n",
    "            except IOError:\n",
    "                raise NameError(f\"It seems the lab drive is not accessible at the path provided in {csv_files_zip}\\n \\\n",
    "                        for ex {img_pathname}\")\n",
    "                \n",
    "            original_img = cv.imread(img_pathname, cv.IMREAD_UNCHANGED)\n",
    "            img_array = np.array(original_img)\n",
    "            height, width = img_array.shape\n",
    "            png_layer = np.zeros((height, width, 4))\n",
    "            pixel_size = row.voxel_size\n",
    "            \n",
    "            # iterate through all the embolism regions in the csv file\n",
    "            for emb_index, emb_region in emb_df.iterrows():           \n",
    "                \n",
    "                x_emb = emb_region.BaryCenterX\n",
    "                y_emb = emb_region.BaryCenterY\n",
    "                emb_radius = emb_region.EqDiameter/2\n",
    "\n",
    "                # All values are in mm, need to convert to px using voxel size (mm size of pixel)\n",
    "                x_emb_px = int(x_emb/pixel_size)\n",
    "                y_emb_px = int(y_emb/pixel_size)\n",
    "                emb_radius_px = int(emb_radius/pixel_size)\n",
    "\n",
    "                # Draw the ROI\n",
    "                cv.circle(png_layer, center=(x_emb_px, y_emb_px), radius=emb_radius_px, color=(0,0,255,170), thickness=-1)\n",
    "                \n",
    "            # Save the layer\n",
    "            cv.imwrite(labels_out_dir1+f'{row.session}_{row.scan_nb}_{row.plant_name}_{row.image_nb}.tif', png_layer)"
   ]
  },
  {
   "cell_type": "markdown",
   "metadata": {},
   "source": [
    "# Create signal processing based masks"
   ]
  },
  {
   "cell_type": "code",
   "execution_count": null,
   "metadata": {},
   "outputs": [],
   "source": [
    "with zipfile.ZipFile(csv_files_zip) as csv_labels_folder:\n",
    "    for index, row in analysis_overview_df.iterrows():\n",
    "        emb_csv_filename = f\"{row.session}_{row.scan_nb}_{row.plant_name}_emb.csv\"\n",
    "        with csv_labels_folder.open(emb_csv_filename) as emb_file:\n",
    "            emb_df = pd.read_csv(emb_file, skiprows=1, index_col=\"index\")\n",
    "            \n",
    "            # create the mask for the embolism regions\n",
    "            # NB: the Lab drive must be mounted at the location found in the csv_files_zip file\n",
    "            # otherwise the images will be empty\n",
    "            img_pathname = (analysis_overview_df.loc[(analysis_overview_df[\"plant_name\"] == row.plant_name) & (analysis_overview_df[\"scan_nb\"] == row.scan_nb) & (analysis_overview_df[\"session\"] == row.session), \"pathname\"]).iloc[0]\n",
    "            try:\n",
    "                with open(img_pathname) as f:\n",
    "                    continue\n",
    "            except IOError:\n",
    "                raise NameError(f\"It seems the lab drive is not accessible at the path provided in {csv_files_zip}\\n \\\n",
    "                        for ex tried {img_pathname}\")\n",
    "            \n",
    "            original_img = np.array(cv.imread(img_pathname, cv.IMREAD_UNCHANGED))\n",
    "            height, width = img_array.shape\n",
    "            pixel_size = row.voxel_size\n",
    "\n",
    "            # signal processing \n",
    "            sigma = find_best_sigma(original_img,125) # find sigma\n",
    "            img_dn = denoise_nl_means(original_img, patch_size=7, patch_distance=11, h=0.6*sigma, fast_mode=False, sigma=sigma) # denoise using nl means\n",
    "            th = find_otsu(img_dn) # find optimal threshold value using Otsu's method\n",
    "            _,img_th = cv.threshold(img_dn,th,img_dn.max(),cv.THRESH_BINARY_INV) # threshold image\n",
    "            region_map, regions = region_map(img_th)\n",
    "            label_img = np.zeros_like(original_img)\n",
    "                        \n",
    "            # iterate through all the embolism regions in the csv file\n",
    "            for emb_index, emb_region in emb_df.iterrows():           \n",
    "                \n",
    "                x_emb = emb_region.BaryCenterX\n",
    "                y_emb = emb_region.BaryCenterY\n",
    "\n",
    "                # All values are in mm, need to convert to px using voxel size (mm size of pixel)\n",
    "                x_emb_px = int(x_emb/pixel_size)\n",
    "                y_emb_px = int(y_emb/pixel_size)\n",
    "\n",
    "                # select region of current embolism and store it to output if not too large\n",
    "                center_region = region_map[x_emb_px,y_emb_px]\n",
    "                if np.sum(region_map==center_region)<=1000:\n",
    "                    label_img[region_map==center_region] = 1\n",
    "                \n",
    "            # Save the layer\n",
    "            cv.imwrite(labels_out_dir2+f'{row.session}_{row.scan_nb}_{row.plant_name}_{row.image_nb}.tif', label_img)"
   ]
  }
 ],
 "metadata": {
  "environment": {
   "name": "common-cu110.m59",
   "type": "gcloud",
   "uri": "gcr.io/deeplearning-platform-release/base-cu110:m59"
  },
  "kernelspec": {
   "display_name": "Python 3",
   "language": "python",
   "name": "python3"
  },
  "language_info": {
   "codemirror_mode": {
    "name": "ipython",
    "version": 3
   },
   "file_extension": ".py",
   "mimetype": "text/x-python",
   "name": "python",
   "nbconvert_exporter": "python",
   "pygments_lexer": "ipython3",
   "version": "3.7.8"
  }
 },
 "nbformat": 4,
 "nbformat_minor": 4
}
