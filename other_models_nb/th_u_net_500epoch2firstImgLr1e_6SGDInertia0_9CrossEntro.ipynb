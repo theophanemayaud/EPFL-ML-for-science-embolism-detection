{
  "nbformat": 4,
  "nbformat_minor": 0,
  "metadata": {
    "accelerator": "GPU",
    "colab": {
      "name": "th_u_net_500epoch2firstImgLr1e-6SGDInertia0.9CrossEntro.ipynb",
      "provenance": [],
      "collapsed_sections": []
    },
    "kernelspec": {
      "display_name": "Python 3",
      "language": "python",
      "name": "python3"
    },
    "language_info": {
      "codemirror_mode": {
        "name": "ipython",
        "version": 3
      },
      "file_extension": ".py",
      "mimetype": "text/x-python",
      "name": "python",
      "nbconvert_exporter": "python",
      "pygments_lexer": "ipython3",
      "version": "3.8.5"
    }
  },
  "cells": [
    {
      "cell_type": "markdown",
      "metadata": {
        "id": "QKbc3s9LoKC8"
      },
      "source": [
        "# UNet implementation with complementary tools to try different approaches\n",
        "Based on https://youtu.be/u1loyDCoGbE for implementation of U-net : https://arxiv.org/pdf/1505.04597.pdf\n",
        "\n",
        "This notebook is the reference notebook of our implementation, and we will make copies of it, to test different small changes and compare their results.\n",
        "\n",
        "See cell 6 for general parameters which will change frequently. Otherwise changes will be details here in this cell.\n",
        "\n",
        "## Specific test details\n",
        "\n",
        "See params for train, test and epochs \n",
        "\n",
        "SGD WITH inertia=0.9 . This SGD is changed from the default notebook Adam in the cell where we launch the training. The original code is commented out (kept for reference)\n",
        "\n",
        "CrossEntropy loss. \n",
        "\n",
        "learning rate = see params"
      ]
    },
    {
      "cell_type": "code",
      "metadata": {
        "id": "dtCj1z1-oKDE"
      },
      "source": [
        "%matplotlib inline\n",
        "import numpy as np\n",
        "import torch\n",
        "import torch.nn as nn\n",
        "import torch.nn.functional as F\n",
        "import glob\n",
        "import cv2 as cv\n",
        "import time\n",
        "import matplotlib.pyplot as plt\n",
        "import seaborn as sns"
      ],
      "execution_count": null,
      "outputs": []
    },
    {
      "cell_type": "code",
      "metadata": {
        "id": "3JLUi4s1Dkzf"
      },
      "source": [
        "env = \"colab\" # local or colab\n",
        "train_or_load = \"train\" # train or load : Are we training a model, or just loading a pretrained one ?"
      ],
      "execution_count": null,
      "outputs": []
    },
    {
      "cell_type": "code",
      "metadata": {
        "colab": {
          "base_uri": "https://localhost:8080/"
        },
        "id": "_FzWBgbHoKDF",
        "outputId": "aaf114e4-85ed-4b67-9efc-e6c367c9b051"
      },
      "source": [
        "#Google Colab specifics\n",
        "if env == \"colab\":\n",
        "    from google.colab import drive\n",
        "    drive.mount('/content/drive', force_remount=True)\n",
        "    !cp \"/content/drive/MyDrive/helpers.py\" .\n",
        "    imgs_names = glob.glob( '/content/drive/MyDrive/th_analysedimages/*.tif')\n",
        "    labels_names = glob.glob('/content/drive/MyDrive/labels/*.png')"
      ],
      "execution_count": null,
      "outputs": [
        {
          "output_type": "stream",
          "text": [
            "Mounted at /content/drive\n"
          ],
          "name": "stdout"
        }
      ]
    },
    {
      "cell_type": "code",
      "metadata": {
        "id": "B-sPlOI_oKDH"
      },
      "source": [
        "#Local github project specifics\n",
        "if env == \"local\":\n",
        "    imgs_names = glob.glob( '/Users/theophanemayaud/Dev/EPFL MA1/Machine Learning/cs-433-project-2-ml_fools/th_analysedimages/*.tif')\n",
        "    labels_names = glob.glob('/Users/theophanemayaud/Dev/EPFL MA1/Machine Learning/cs-433-project-2-ml_fools/th_csv_labels/png_masks_emb/*.png')\n",
        "    !cp \"/Users/theophanemayaud/Dev/EPFL MA1/Machine Learning/cs-433-project-2-ml_fools/helpers.py\" ."
      ],
      "execution_count": null,
      "outputs": []
    },
    {
      "cell_type": "code",
      "metadata": {
        "colab": {
          "base_uri": "https://localhost:8080/"
        },
        "id": "GIo9U3weoKDH",
        "outputId": "90d24bd4-6144-4681-df5f-67ccce3e77ca"
      },
      "source": [
        "from helpers import png_to_mask, segment_dataset, compute_emb_surf_pred_error, confusion, out_predict\n",
        "\n",
        "imgs_names= sorted(imgs_names)\n",
        "#imgs = [cv.imread(name, cv.IMREAD_UNCHANGED) for name in imgs_names[1]]\n",
        "print(f\"Found {len(imgs_names)} images\")\n",
        "\n",
        "labels_names= sorted(labels_names)\n",
        "#labels = [png_to_mask(cv.imread(name, cv.IMREAD_UNCHANGED)) for name in labels_names]\n",
        "print(f\"Found {len(labels_names)} labels\")"
      ],
      "execution_count": null,
      "outputs": [
        {
          "output_type": "stream",
          "text": [
            "Found 357 images\n",
            "Found 357 labels\n"
          ],
          "name": "stdout"
        }
      ]
    },
    {
      "cell_type": "markdown",
      "metadata": {
        "id": "OTMWdzJkUpSt"
      },
      "source": [
        "## General parameters are here :"
      ]
    },
    {
      "cell_type": "code",
      "metadata": {
        "id": "ZfQa_-esUpSt"
      },
      "source": [
        "# Training configuration parameters\n",
        "learning_rate = 1e-6\n",
        "\n",
        "num_epochs= 500\n",
        "number_of_images = 2\n",
        "train_img_pathnames = imgs_names[:number_of_images]\n",
        "train_label_pathnames = labels_names[:number_of_images]\n",
        "\n",
        "disp_every_x_epoch = 50\n",
        "disp_every_x_img = 10\n",
        "max_seg_to_disp = 9    # NB 1 (and not 0) means the first segment is displayed\n",
        "disp_every_x_seg = 4\n",
        "\n",
        "print_images_while_training = False\n",
        "\n",
        "# Testing predictions parameters\n",
        "test_img_start = 300\n",
        "test_img_stop = 330\n",
        "test_img_pathnames = imgs_names[test_img_start:test_img_stop]\n",
        "test_label_pathnames = labels_names[test_img_start:test_img_stop]\n",
        "\n",
        "print_each_test_stat = True\n",
        "print_each_test_img = True\n",
        "\n",
        "# Saving parameters when in train mode\n",
        "model_name = \"500epoch2firstImgLr1e-6SGDInertia0.9CrossEntro\"\n",
        "model_description = \"None\""
      ],
      "execution_count": null,
      "outputs": []
    },
    {
      "cell_type": "markdown",
      "metadata": {
        "id": "rK-k0p8PoKDH"
      },
      "source": [
        "UNet picture representation : \n",
        "\n",
        "<img src=\"https://lmb.informatik.uni-freiburg.de/people/ronneber/u-net/u-net-architecture.png\" width=\"300\">"
      ]
    },
    {
      "cell_type": "code",
      "metadata": {
        "colab": {
          "base_uri": "https://localhost:8080/"
        },
        "id": "pRxFnJdmC707",
        "outputId": "0c1c434d-5cb3-49e2-c0c0-8edb493eceeb"
      },
      "source": [
        "# Define the device to train on, if a GPU is available (ex when on Google Colab)\n",
        "if not torch.cuda.is_available():\n",
        "    print(\"Things will go much quicker if you enable a GPU, ex in Colab under 'Runtime / Change Runtime Type'\")\n",
        "else:\n",
        "    #del model # only needed when re-running multiple times\n",
        "    torch.cuda.empty_cache()\n",
        "device = torch.device(\"cuda\" if torch.cuda.is_available() else \"cpu\")\n",
        "print(f\"Selected device is: {device}\\n\")"
      ],
      "execution_count": null,
      "outputs": [
        {
          "output_type": "stream",
          "text": [
            "Selected device is: cuda\n",
            "\n"
          ],
          "name": "stdout"
        }
      ]
    },
    {
      "cell_type": "code",
      "metadata": {
        "id": "fscs-r1JoKDH"
      },
      "source": [
        "# UNet definitions\n",
        "class UNet(nn.Module):\n",
        "    def __init__(self):\n",
        "        super(UNet, self).__init__()\n",
        "        \n",
        "        # functions for going down the U\n",
        "        self.max_pool_2x2 = nn.MaxPool2d(kernel_size=2, stride=2)\n",
        "        self.d_double_conv_1 = double_conv(1, 64)\n",
        "        self.d_double_conv_2 = double_conv(64, 128)\n",
        "        self.d_double_conv_3 = double_conv(128, 256)\n",
        "        self.d_double_conv_4 = double_conv(256, 512)\n",
        "        self.d_double_conv_5 = double_conv(512, 1024)\n",
        "        \n",
        "        # functions for going up the U\n",
        "        self.up_trans_4 = nn.ConvTranspose2d(in_channels=1024, out_channels=512, kernel_size=2, stride=2)        \n",
        "        self.u_double_conv_4 = double_conv(1024, 512)\n",
        "        self.up_trans_3 = nn.ConvTranspose2d(in_channels=512, out_channels=256, kernel_size=2, stride=2)\n",
        "        self.u_double_conv_3 = double_conv(512, 256)\n",
        "        self.up_trans_2 = nn.ConvTranspose2d(in_channels=256, out_channels=128, kernel_size=2, stride=2)\n",
        "        self.u_double_conv_2 = double_conv(256, 128)\n",
        "        self.up_trans_1 = nn.ConvTranspose2d(in_channels=128, out_channels=64, kernel_size=2, stride=2)\n",
        "        self.u_double_conv_1 = double_conv(128, 64)\n",
        "        \n",
        "        self.out = nn.Conv2d(in_channels=64, out_channels=2, kernel_size=1)\n",
        "        \n",
        "    def forward(self, image):\n",
        "        '''makes the 388x388 prediction with the model, image must be 572x572pixels'''\n",
        "        \n",
        "        # Going down the U\n",
        "        d1 = self.d_double_conv_1(image) # first \"level\"\n",
        "        # print(x1.size())\n",
        "        x = self.max_pool_2x2(d1)\n",
        "        d2 = self.d_double_conv_2(x) # second\n",
        "        x = self.max_pool_2x2(d2)\n",
        "        d3 = self.d_double_conv_3(x) # third\n",
        "        x = self.max_pool_2x2(d3)\n",
        "        d4 = self.d_double_conv_4(x) # fourth\n",
        "        x = self.max_pool_2x2(d4)\n",
        "        x = self.d_double_conv_5(x) # last layer (fifth) : no max pool\n",
        "        # plt.imshow(x.detach().numpy()[0, 0, :, :])\n",
        "        \n",
        "        # Going up the U\n",
        "        x = self.up_trans_4(x)\n",
        "        d4 = crop_img(tensor=d4, target_tensor=x) #crop to copy\n",
        "        x = self.u_double_conv_4(torch.cat([d4, x], 1))\n",
        "        \n",
        "        x = self.up_trans_3(x)\n",
        "        d3 = crop_img(tensor=d3, target_tensor=x)\n",
        "        x = self.u_double_conv_3(torch.cat([d3, x], 1))\n",
        "        \n",
        "        x = self.up_trans_2(x)\n",
        "        d2 = crop_img(tensor=d2, target_tensor=x)\n",
        "        x = self.u_double_conv_2(torch.cat([d2, x], 1))\n",
        "        \n",
        "        x = self.up_trans_1(x)\n",
        "        d1 = crop_img(tensor=d1, target_tensor=x)\n",
        "        x = self.u_double_conv_1(torch.cat([d1, x], 1))\n",
        "        \n",
        "        x = self.out(x)\n",
        "        return x\n",
        "        \n",
        "        \n",
        "    \n",
        "# some functions so reduce redunduncy\n",
        "def double_conv(nb_in_channels, nb_out_channels): # Used for every descending step\n",
        "    conv = nn.Sequential(\n",
        "        nn.Conv2d(nb_in_channels, nb_out_channels, kernel_size=3),\n",
        "        nn.ReLU(inplace=True),\n",
        "        nn.Conv2d(nb_out_channels, nb_out_channels, kernel_size=3),\n",
        "        nn.ReLU(inplace=True),\n",
        "    )\n",
        "    return conv\n",
        "\n",
        "def crop_img(tensor, target_tensor): # Used for copy and crop between descending and ascending\n",
        "    target_size = target_tensor.size()[2] # NB they are square so .size[2]=.size[3]\n",
        "    tensor_size = tensor.size()[2]\n",
        "    delta = tensor_size - target_size #target is always smaller\n",
        "    pix_crop = delta // 2\n",
        "    return tensor[:, :, pix_crop:tensor_size-pix_crop, pix_crop:tensor_size-pix_crop]"
      ],
      "execution_count": null,
      "outputs": []
    },
    {
      "cell_type": "code",
      "metadata": {
        "id": "MPu2o3zAoKDI"
      },
      "source": [
        "# Training function\n",
        "def train_model(model, img_pathnames, label_pathnames, criterion, optimizer, device, num_epochs=25, \n",
        "                disp_every_x_epoch = 1,\n",
        "                disp_every_x_img = 1,\n",
        "                max_seg_to_disp = 100, # NB 1 (and not 0) means the first segment is displayed\n",
        "                disp_every_x_seg = 1):\n",
        "    points=0 # incrementer for displaying progress\n",
        "    train_start_time = time.process_time() # For process monitoring\n",
        "\n",
        "    print(\"Starting the training on images !\")\n",
        "    model.train()\n",
        "    for epoch in range(num_epochs):\n",
        "        \n",
        "        for image_i in range(len(img_pathnames)):\n",
        "            image = cv.imread(img_pathnames[image_i], cv.IMREAD_UNCHANGED)\n",
        "            label = png_to_mask(cv.imread(label_pathnames[image_i], cv.IMREAD_UNCHANGED))\n",
        "            \n",
        "            image_segments, label_segments = segment_dataset([image], [label])\n",
        "            \n",
        "            for segment_i in range(len(image_segments[:, 0, 0])):\n",
        "                since = time.process_time() # For process monitoring\n",
        "                img_seg = torch.tensor(image_segments[segment_i, :, :], requires_grad=True).view(1, 1, 572, 572).to(device).float()\n",
        "                label_seg = torch.tensor(label_segments[segment_i, :, :].astype(float)).view(1, 388, 388).to(device).long()\n",
        "                \n",
        "                prediction = model(img_seg)\n",
        "                loss = criterion(prediction, label_seg)\n",
        "            \n",
        "                # Compute the gradient\n",
        "                optimizer.zero_grad()\n",
        "                loss.backward()\n",
        "                \n",
        "                # Update the parameters of the model with a gradient step\n",
        "                optimizer.step()\n",
        "                            \n",
        "                # Optionnaly display status during training\n",
        "                if ( epoch%disp_every_x_epoch==0 and image_i%disp_every_x_img==0 \n",
        "                        and segment_i%disp_every_x_seg==0 and segment_i<max_seg_to_disp-1 ): \n",
        "                    if image_i==0 and segment_i==0:\n",
        "                        print(f\"\\nEpoch {1+epoch}/{num_epochs}\", end=\"\")\n",
        "                    if segment_i==0:\n",
        "                        print(f\"\\n|  Image {1+image_i}/{len(img_pathnames)} '{img_pathnames[image_i]}'\", end=\"\")\n",
        "                \n",
        "                    time_elapsed = time.process_time()-since\n",
        "\n",
        "                    # Make new prediction so compare before and after step\n",
        "                    new_prediction = model(img_seg)\n",
        "                    new_loss = criterion(new_prediction, label_seg)\n",
        "                    ori_lab_seg = label_seg.cpu().detach().numpy()[0,:,:].astype(int)\n",
        "                    pred_lab_seg = torch.argmax(prediction, dim=1).cpu().detach().numpy()[0, :, :]\n",
        "\n",
        "                    emb_surf_pred_error = compute_emb_surf_pred_error(ori_lab_seg, pred_lab_seg, print_values=False)\n",
        "                    print(f\"\\n|  |  Segment {1+segment_i}/{len(image_segments[:, 0, 0])} : loss={loss} \"+\\\n",
        "                          f\"duration={int(time_elapsed)//60}m {int(time_elapsed%60)}s. Loss reduced {loss-new_loss}. \"+\\\n",
        "                          f\"Emb surf pred err= {emb_surf_pred_error}%\", end=\"\")\n",
        "                        \n",
        "                    # # Also optionally print confusion values :\n",
        "                    # print(f\"\\n|  |  Confusion values are :{confusion(ori_lab_seg, pred_lab_seg, data_type='numpy')}\")\n",
        "\n",
        "                    # Also optionnaly print image segment, label and prediction\n",
        "                    if print_images_while_training == True:\n",
        "                        _ , axs = plt.subplots(ncols=3, figsize=(40, 40))\n",
        "                        axs[0].set_title(\"Segment of original image\")\n",
        "                        axs[0].imshow(img_seg.cpu().detach().numpy()[0,0,:,:])\n",
        "                        axs[1].set_title(\"Segment of original label\")\n",
        "                        axs[1].imshow(label_seg.cpu().detach().numpy()[0,:,:])\n",
        "                        axs[2].set_title(\"Predicted label segment\")\n",
        "                        axs[2].imshow(torch.argmax(prediction, dim=1).cpu().detach().numpy()[0,:,:])\n",
        "                        plt.show()\n",
        "\n",
        "                    points=0\n",
        "\n",
        "                if ( (epoch%disp_every_x_epoch==0 and image_i%disp_every_x_img==1 and segment_i==0) \n",
        "                        or (epoch%disp_every_x_epoch==1 and points==0) ):\n",
        "                    print(\"\\n   ...Next epochs & images \", end=\"\")\n",
        "                    points = 1\n",
        "                else:\n",
        "                    print(\".\", end=\"\")\n",
        "                    points = points+1 \n",
        "                    if  points>80:\n",
        "                        print(\"\\n      ...\", end=\"\")\n",
        "                        points = 1\n",
        "\n",
        "    time_elapsed = time.process_time()-train_start_time\n",
        "    print(f\"\\n\\n Finished training after {int(time_elapsed)//60}m {int(time_elapsed%60)}s\")"
      ],
      "execution_count": null,
      "outputs": []
    },
    {
      "cell_type": "code",
      "metadata": {
        "colab": {
          "background_save": true,
          "base_uri": "https://localhost:8080/"
        },
        "id": "hxvycGsWoKDJ",
        "outputId": "45181dec-288c-4d42-b3d6-1279edefe527"
      },
      "source": [
        "# Actually training the model\n",
        "if train_or_load == \"train\" : \n",
        "    \n",
        "    model = UNet().to(device)\n",
        "    criterion = torch.nn.CrossEntropyLoss()\n",
        "    # optimizer = torch.optim.Adam(model.parameters(), lr=learning_rate)\n",
        "    optimizer = torch.optim.SGD(model.parameters(), lr=learning_rate, momentum=0.9)\n",
        "    train_model(model, train_img_pathnames, train_label_pathnames, criterion, optimizer, device, num_epochs,\n",
        "                disp_every_x_epoch,\n",
        "                disp_every_x_img,\n",
        "                max_seg_to_disp,\n",
        "                disp_every_x_seg)"
      ],
      "execution_count": null,
      "outputs": [
        {
          "output_type": "stream",
          "text": [
            "Starting the training on images !\n",
            "\n",
            "Epoch 1/500\n",
            "|  Image 1/2 '/content/drive/MyDrive/th_analysedimages/Session1_flushed_1-fs-08_311.tif'\n",
            "|  |  Segment 1/6 : loss=23.675622940063477 duration=0m 0s. Loss reduced 17.552879333496094. Emb surf pred err= 2447.983971950914%....\n",
            "|  |  Segment 5/6 : loss=26.705968856811523 duration=0m 0s. Loss reduced -2.1675796508789062. Emb surf pred err= -678800.0%..\n",
            "   ...Next epochs & images ................................................................................\n",
            "      ...................................................................................\n",
            "      ...................................................................................\n",
            "      ...................................................................................\n",
            "      ...................................................................................\n",
            "      ...................................................................................\n",
            "      ...................................................................................\n",
            "      ...................................................................................\n",
            "      ...................................................................................\n",
            "      ..........................\n",
            "Epoch 51/500\n",
            "|  Image 1/2 '/content/drive/MyDrive/th_analysedimages/Session1_flushed_1-fs-08_311.tif'\n",
            "|  |  Segment 1/6 : loss=0.2512170672416687 duration=0m 0s. Loss reduced 0.0077536702156066895. Emb surf pred err= 25.72001001753068%....\n",
            "|  |  Segment 5/6 : loss=0.3692205548286438 duration=0m 0s. Loss reduced 0.009552359580993652. Emb surf pred err= -36.90260133091349%..\n",
            "   ...Next epochs & images ................................................................................\n",
            "      ...................................................................................\n",
            "      ...................................................................................\n",
            "      ...................................................................................\n",
            "      ...................................................................................\n",
            "      ...................................................................................\n",
            "      ...................................................................................\n",
            "      ...................................................................................\n",
            "      ...................................................................................\n",
            "      ..........................\n",
            "Epoch 101/500\n",
            "|  Image 1/2 '/content/drive/MyDrive/th_analysedimages/Session1_flushed_1-fs-08_311.tif'\n",
            "|  |  Segment 1/6 : loss=0.7944144606590271 duration=0m 0s. Loss reduced 0.1520199179649353. Emb surf pred err= 391.8357124968695%....\n",
            "|  |  Segment 5/6 : loss=0.45776858925819397 duration=0m 0s. Loss reduced -0.07386371493339539. Emb surf pred err= -52.42478670857656%..\n",
            "   ...Next epochs & images ................................................................................\n",
            "      ...................................................................................\n",
            "      ...................................................................................\n",
            "      ...................................................................................\n",
            "      ...................................................................................\n",
            "      ...................................................................................\n",
            "      ...................................................................................\n",
            "      ...................................................................................\n",
            "      ...................................................................................\n",
            "      ..........................\n",
            "Epoch 151/500\n",
            "|  Image 1/2 '/content/drive/MyDrive/th_analysedimages/Session1_flushed_1-fs-08_311.tif'\n",
            "|  |  Segment 1/6 : loss=0.21984122693538666 duration=0m 0s. Loss reduced 0.012710228562355042. Emb surf pred err= 125.41948409717004%....\n",
            "|  |  Segment 5/6 : loss=0.22682838141918182 duration=0m 0s. Loss reduced -0.00931769609451294. Emb surf pred err= -24.751929437706725%..\n",
            "   ...Next epochs & images ................................................................................\n",
            "      ...................................................................................\n",
            "      ...................................................................................\n",
            "      ...................................................................................\n",
            "      ...................................................................................\n",
            "      ...................................................................................\n",
            "      ...................................................................................\n",
            "      ...................................................................................\n",
            "      ...................................................................................\n",
            "      ..........................\n",
            "Epoch 201/500\n",
            "|  Image 1/2 '/content/drive/MyDrive/th_analysedimages/Session1_flushed_1-fs-08_311.tif'\n",
            "|  |  Segment 1/6 : loss=0.17756041884422302 duration=0m 0s. Loss reduced 0.008976876735687256. Emb surf pred err= 109.16604057099924%....\n",
            "|  |  Segment 5/6 : loss=0.18013222515583038 duration=0m 0s. Loss reduced -0.006814450025558472. Emb surf pred err= -23.909472531483846%..\n",
            "   ...Next epochs & images ................................................................................\n",
            "      ...................................................................................\n",
            "      ...................................................................................\n",
            "      ...................................................................................\n",
            "      ...................................................................................\n",
            "      ...................................................................................\n",
            "      ...................................................................................\n",
            "      ...................................................................................\n",
            "      ...................................................................................\n",
            "      ..........................\n",
            "Epoch 251/500\n",
            "|  Image 1/2 '/content/drive/MyDrive/th_analysedimages/Session1_flushed_1-fs-08_311.tif'\n",
            "|  |  Segment 1/6 : loss=0.1494462937116623 duration=0m 0s. Loss reduced 0.003899410367012024. Emb surf pred err= 85.59979964938643%....\n",
            "|  |  Segment 5/6 : loss=0.1582123041152954 duration=0m 0s. Loss reduced -0.003370314836502075. Emb surf pred err= -16.629445112523623%..\n",
            "   ...Next epochs & images ................................................................................\n",
            "      ...................................................................................\n",
            "      ...................................................................................\n",
            "      ...................................................................................\n",
            "      ...................................................................................\n",
            "      ...................................................................................\n",
            "      ...................................................................................\n",
            "      ...................................................................................\n",
            "      ...................................................................................\n",
            "      ..........................\n",
            "Epoch 301/500\n",
            "|  Image 1/2 '/content/drive/MyDrive/th_analysedimages/Session1_flushed_1-fs-08_311.tif'\n",
            "|  |  Segment 1/6 : loss=0.13342157006263733 duration=0m 0s. Loss reduced 0.002804577350616455. Emb surf pred err= 72.42674680691209%....\n",
            "|  |  Segment 5/6 : loss=0.14441227912902832 duration=0m 0s. Loss reduced -0.002360910177230835. Emb surf pred err= -17.45674740484429%..\n",
            "   ...Next epochs & images ................................................................................\n",
            "      ...................................................................................\n",
            "      ...................................................................................\n",
            "      ...................................................................................\n",
            "      ...................................................................................\n",
            "      ...................................................................................\n",
            "      ...................................................................................\n",
            "      ...................................................................................\n",
            "      ...................................................................................\n",
            "      ..........................\n",
            "Epoch 351/500\n",
            "|  Image 1/2 '/content/drive/MyDrive/th_analysedimages/Session1_flushed_1-fs-08_311.tif'\n",
            "|  |  Segment 1/6 : loss=0.1225685179233551 duration=0m 0s. Loss reduced 0.002676047384738922. Emb surf pred err= 63.48610067618332%....\n",
            "|  |  Segment 5/6 : loss=0.1342024952173233 duration=0m 0s. Loss reduced -0.00212077796459198. Emb surf pred err= -19.88345399964683%..\n",
            "   ...Next epochs & images ................................................................................\n",
            "      ...................................................................................\n",
            "      ...................................................................................\n",
            "      ...................................................................................\n",
            "      ...................................................................................\n",
            "      ...................................................................................\n",
            "      ...................................................................................\n",
            "      ...................................................................................\n",
            "      ...................................................................................\n",
            "      ..........................\n",
            "Epoch 401/500\n",
            "|  Image 1/2 '/content/drive/MyDrive/th_analysedimages/Session1_flushed_1-fs-08_311.tif'\n",
            "|  |  Segment 1/6 : loss=0.1149466261267662 duration=0m 0s. Loss reduced 0.0027354955673217773. Emb surf pred err= 58.026546456298526%....\n",
            "|  |  Segment 5/6 : loss=0.12619979679584503 duration=0m 0s. Loss reduced -0.0020927786827087402. Emb surf pred err= -24.02265253927658%..\n",
            "   ...Next epochs & images ................................................................................\n",
            "      ...................................................................................\n",
            "      ...................................................................................\n",
            "      ...................................................................................\n",
            "      ...................................................................................\n",
            "      ...................................................................................\n",
            "      ...................................................................................\n",
            "      ...................................................................................\n",
            "      ...................................................................................\n",
            "      ..........................\n",
            "Epoch 451/500\n",
            "|  Image 1/2 '/content/drive/MyDrive/th_analysedimages/Session1_flushed_1-fs-08_311.tif'\n",
            "|  |  Segment 1/6 : loss=0.1088765487074852 duration=0m 0s. Loss reduced 0.0026594549417495728. Emb surf pred err= 52.06611570247934%....\n",
            "|  |  Segment 5/6 : loss=0.12010195851325989 duration=0m 0s. Loss reduced -0.0020003467798233032. Emb surf pred err= -25.932109070673345%..\n",
            "   ...Next epochs & images ................................................................................\n",
            "      ...................................................................................\n",
            "      ...................................................................................\n",
            "      ...................................................................................\n",
            "      ...................................................................................\n",
            "      ...................................................................................\n",
            "      ...................................................................................\n",
            "      ...................................................................................\n",
            "      ...................................................................................\n",
            "      ..........................\n",
            "\n",
            " Finished training after 33m 20s\n"
          ],
          "name": "stdout"
        }
      ]
    },
    {
      "cell_type": "code",
      "metadata": {
        "colab": {
          "background_save": true
        },
        "id": "nsFNNge0h3eZ"
      },
      "source": [
        "# Loading the pre-trained model\n",
        "if train_or_load == \"load\":  \n",
        "    PATH = \"/content/drive/MyDrive/savedmodels/\" + model_name + \".pkl\"\n",
        "    if env == \"local\":\n",
        "        PATH = \"./savedmodels/\" + model_name + \".pkl\"\n",
        "\n",
        "    if device == \"cuda\":\n",
        "        map_to_device = \"cuda:0\"\n",
        "    else:\n",
        "        map_to_device = \"cpu\"\n",
        "\n",
        "    model = UNet()\n",
        "\n",
        "    checkpoint = torch.load(PATH)\n",
        "\n",
        "    print(\"Model parameters are :\")\n",
        "    print(f\"   name : {checkpoint['name']}\")\n",
        "    print(f\"   description : {checkpoint['description']}\")\n",
        "    model.load_state_dict(checkpoint['model_state_dict'])\n",
        "    # # If wanting to resume training :\n",
        "    # optimizer = TheOptimizerClass(*args, **kwargs)\n",
        "    # optimizer.load_state_dict(checkpoint['optimizer_state_dict'])\n",
        "\n",
        "    model.to(device)\n",
        "    print(\"Model successfully loaded !\")"
      ],
      "execution_count": null,
      "outputs": []
    },
    {
      "cell_type": "code",
      "metadata": {
        "colab": {
          "background_save": true
        },
        "id": "Sc0iyD5toKDJ"
      },
      "source": [
        "# Test predictions\n",
        "def test_predictions(model, test_img_pathnames, test_label_pathnames):\n",
        "    emb_surf_pred_errors_list = []\n",
        "\n",
        "    print(\"Starting testing predictions \\n\")\n",
        "\n",
        "    for img_i in range(len(test_img_pathnames)):\n",
        "        test_img = cv.imread(test_img_pathnames[img_i], cv.IMREAD_UNCHANGED)\n",
        "        test_label = png_to_mask(cv.imread(test_label_pathnames[img_i], cv.IMREAD_UNCHANGED))\n",
        "\n",
        "        pred_label = out_predict(model, test_img, device)\n",
        "\n",
        "        emb_surf_pred_error = compute_emb_surf_pred_error(test_label, pred_label, print_values=False)\n",
        "        if print_each_test_stat == True:\n",
        "            print(f\"Emb surf pred err={emb_surf_pred_error}%\")\n",
        "            print(f\"Confusion values are :{confusion(pred_label, test_label, data_type='numpy')}\")\n",
        "        else:\n",
        "            print(\".\", end=\"\")\n",
        "        emb_surf_pred_errors_list.append(emb_surf_pred_error)\n",
        "\n",
        "        if img_i == len(test_img_pathnames)-1 or print_each_test_img == True:\n",
        "            print(\"\\nLast image looks like :\")\n",
        "            _ , axs = plt.subplots(ncols=3, figsize=(40, 40))\n",
        "\n",
        "            axs[0].set_title(\"Original image\")\n",
        "            axs[0].imshow(test_img)\n",
        "\n",
        "            axs[1].set_title(\"Original label\")\n",
        "            axs[1].imshow(test_label)\n",
        "\n",
        "            axs[2].set_title(\"Model predicted label\")\n",
        "            axs[2].imshow(pred_label)\n",
        "            plt.show()\n",
        "\n",
        "    # Draw histogram with boxplot of surface error values\n",
        "    sns.set(style=\"ticks\")\n",
        "    f, (ax_box, ax_hist) = plt.subplots(2, sharex=True, \n",
        "                                        gridspec_kw={\"height_ratios\": (.15, .85)})\n",
        "    f.suptitle(f\"Surface error distribution for {test_img_stop-test_img_start} test images\")\n",
        "    sns.boxplot(x=emb_surf_pred_errors_list, ax=ax_box)\n",
        "    sns.histplot(x=emb_surf_pred_errors_list, ax=ax_hist)\n",
        "    ax_box.set(yticks=[])\n",
        "    sns.despine(ax=ax_hist)\n",
        "    sns.despine(ax=ax_box, left=True)\n",
        "    plt.show()\n",
        "    plt.style.use('default')\n",
        "\n",
        "    print(f\"Finished testing with mean surface error={np.mean(emb_surf_pred_errors_list)}%\")\n",
        "    \n",
        "test_predictions(model, test_img_pathnames, test_label_pathnames)\n",
        "\n",
        "if train_or_load == \"train\":\n",
        "    print(\"\\n\\nCheck of performance on training set :\")\n",
        "    test_predictions(model, train_img_pathnames, train_label_pathnames)"
      ],
      "execution_count": null,
      "outputs": []
    },
    {
      "cell_type": "code",
      "metadata": {
        "colab": {
          "base_uri": "https://localhost:8080/"
        },
        "id": "js_Ac9KAoKDK",
        "outputId": "e8b3f108-6902-43d6-f223-78276c1afa99"
      },
      "source": [
        "# Saving the model\n",
        "if train_or_load == \"train\":\n",
        "    print(f\"Remember to set a model name that makes it easy to identify\")\n",
        "    print(f\"Here are the notebook parameters : \\ncriterion={criterion} \\noptimizer={optimizer} \\nlr={learning_rate}, \\nepochs={num_epochs}\")\n",
        "    \n",
        "    PATH = \"/content/drive/MyDrive/savedmodels/\" + model_name + \".pkl\"\n",
        "    if env == \"local\":\n",
        "        PATH = \"./savedmodels/\" + model_name + \".pkl\"\n",
        "\n",
        "    print(\"\\nmodel_name = \" + model_name)\n",
        "    print(\"model_description = \" + model_description)\n",
        "    print(\"PATH = \" + PATH)\n",
        "    # Warning : only save once name and descriptions are set correctly\n",
        "    torch.save({\n",
        "            'name': model_name,\n",
        "            'description': model_description,\n",
        "            'model_details_dump': f\"env={env}, train_or_load={train_or_load}, learning rate={learning_rate}, epochs={num_epochs}, optimizer={optimizer}, criterion={criterion}\",         \n",
        "            'model_state_dict': model.state_dict(),\n",
        "            # 'optimizer_state_dict': optimizer.state_dict(), # Only needed when planning to resume training from loaded model\n",
        "            }, PATH)\n",
        "    print(\"Model saved !\")"
      ],
      "execution_count": 14,
      "outputs": [
        {
          "output_type": "stream",
          "text": [
            "Remember to set a model name that makes it easy to identify\n",
            "Here are the notebook parameters : \n",
            "criterion=CrossEntropyLoss() \n",
            "optimizer=SGD (\n",
            "Parameter Group 0\n",
            "    dampening: 0\n",
            "    lr: 1e-06\n",
            "    momentum: 0.9\n",
            "    nesterov: False\n",
            "    weight_decay: 0\n",
            ") \n",
            "lr=1e-06, \n",
            "epochs=500\n",
            "\n",
            "model_name = 500epoch2firstImgLr1e-6SGDInertia0.9CrossEntro\n",
            "model_description = None\n",
            "PATH = /content/drive/MyDrive/savedmodels/500epoch2firstImgLr1e-6SGDInertia0.9CrossEntro.pkl\n",
            "Model saved !\n"
          ],
          "name": "stdout"
        }
      ]
    },
    {
      "cell_type": "code",
      "metadata": {
        "colab": {
          "background_save": true
        },
        "id": "WRUm4p8Ybqhd"
      },
      "source": [
        ""
      ],
      "execution_count": null,
      "outputs": []
    }
  ]
}