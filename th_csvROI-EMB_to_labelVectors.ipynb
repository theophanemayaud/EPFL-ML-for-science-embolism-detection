{
 "cells": [
  {
   "cell_type": "markdown",
   "metadata": {},
   "source": [
    "# In this notebook we will work on converting the \\_emb and \\_ROI CSV files into and image vector, used later as lab for training\n",
    "\n",
    "## More context on those files\n",
    "\n",
    "Each image was analysed with a software which, after selection of the region of interest ROI, application of a de-noising filter, and thresholding, calculated the area of air present in the plant's vessel (embolism area). \n",
    "\n",
    "Regarding the \\_emb csv file : From this analysis, only the area of each embolism region was retained exactly as calculated. In addition, after approximation of each region by a circle, the center x and y coordinates were saved, as well as the diameter. These statistics are all saved in the \\_emb csv file, with as many rows as there were embolism detected areas.\n",
    "\n",
    "Regarding the \\_ROI csv file : From the analysis, the area of the selected ROI (selected either by drawing an exact circle, or by hand drawing a selection) was calculated and saved, as well as the area of the non region of interest (the outside of the ROI). In addition, after being approximated as a circle (if it was a perfect circle selection this resulted in an exact region), the ROI center x and y position, as well as equivalent diameter were saved. An equivalent diameter and center x and y were also saved for the region outside of the ROI, but this was done automatically and does not have any meaning as this non ROI region was not at all a circle, rather a rectangle (the photo is rectangular) with a roundish-hole in the center.\n",
    "\n",
    "As a first step of our ML project, we will use these CSV files to generate labels for our model. Each image will get a corresponding label image/vector, with the same size (same number of pixels). Each \"pixel\" of the label will either be set to 0 if this was, in the CSV files, not within any embolism region. Or it will be set to 1 if it was within one. \n",
    "\n",
    "Note that in the CSV files, the coordinates and diameter are given in milimeters. Therefore, to know which pixel corresponds to which position, we will need to use the size of each pixel, which is different for each scan, but saved in a seperate file (microCT_data_s1-original.csv for the first session scans) as \"voxel size\". This voxel size is given in milimeters as well (it is between 3 and 7 micrometers)."
   ]
  },
  {
   "cell_type": "markdown",
   "metadata": {},
   "source": [
    "Also, for better re-interpretation, here are some information provided by Laura Mekarni who did these scans :\n",
    "\n",
    "Here are a few general comments :\n",
    "- In these tables you'll find only the trees that I finally used. The images of trees which are not listed in these table should not be analyzed for some reasons (poor quality, sick tree, ...)\n",
    "- In the tables, each tree is noted twice, once with \"scan number = 1\" which means scan of the living tree, and one with \"scan number = 2\", which means scan of the same stem portion but once it has been flushed by air.\n",
    "- Your algorithm is going to detect air inside of the stem, so the total area of these detected portions should be compared to the parameter \"air_surf\" in these tables, which is basically the surface of air detected inside of the Region Of Interest (in mm)\n",
    "- the resolution is given by \"voxel size\" in these table (in mm, such that the resolution vary between 3 and 7 micrometers). Thus, I think you won't have to use the .html file that is stored with the images.\n",
    "- The \"PLA\" (Percentage Loss of condutive Area) is the same for both living and flushed tree scans because this indicator is computed using both scans, it represents the area of embolized vessels as a percentage of the total vessels area in the stem (from the scans number 2).\n",
    "\n",
    "You're probably not going to use a lot of the entries that are in these tables at first, but let me know if you need any additional explanation/variable definition. I think I can also send my master project report in case you want to have a look at the methods.\n",
    "\n",
    "About CSV Files : \n",
    "\n",
    "- I actually didn't remember that these excels files contained the barycenters, which may be useful for you, however you can't reproduce the exact air selection from these excel files (vessels were not detected as circle but random shapes defined by the pixels  in the right range). Some of the parameters in these excel files were computed automatically and I didn't really pay attention... I mainly added the equivalent diameter to the list of indicators to compute.\n",
    "- You can use these excel files without any problems, I actually used them to produce the tables I sent to you 1 hour ago (with vessels number, mean diameter of embolized vessels, ...).\n",
    "As you probably noticed, there are 2 excel files per scan (one about ROI, the other about detected embolism, each line correspond to \"one vessel\" however it happens it was quite common that a pack of vessels was detected as one only vessel because of the quality of the image (or on the contrary, some isolated pixels could be detected as vessels). To trust the parameters like number of vessels, diameters, ... more process is needed (filtering, splitting the vessels which are to big to represent one vessel only, ...). Just so you know.\n"
   ]
  },
  {
   "cell_type": "code",
   "execution_count": null,
   "metadata": {},
   "outputs": [],
   "source": []
  }
 ],
 "metadata": {
  "kernelspec": {
   "display_name": "Python 3",
   "language": "python",
   "name": "python3"
  },
  "language_info": {
   "codemirror_mode": {
    "name": "ipython",
    "version": 3
   },
   "file_extension": ".py",
   "mimetype": "text/x-python",
   "name": "python",
   "nbconvert_exporter": "python",
   "pygments_lexer": "ipython3",
   "version": "3.8.5"
  }
 },
 "nbformat": 4,
 "nbformat_minor": 4
}
